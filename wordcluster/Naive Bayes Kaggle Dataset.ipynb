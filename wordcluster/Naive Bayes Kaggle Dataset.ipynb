{
 "cells": [
  {
   "cell_type": "code",
   "execution_count": 1,
   "metadata": {},
   "outputs": [],
   "source": [
    "import gensim\n",
    "import spacy\n",
    "from collections import defaultdict\n",
    "import pathlib\n",
    "import spacy\n",
    "nlp = spacy.load('en_core_web_md')\n",
    "from sklearn.feature_extraction.text import CountVectorizer\n",
    "from sklearn.model_selection import train_test_split\n",
    "from sklearn.naive_bayes import MultinomialNB\n",
    "import numpy as np\n",
    "import pandas as pd"
   ]
  },
  {
   "cell_type": "code",
   "execution_count": null,
   "metadata": {},
   "outputs": [],
   "source": [
    "#Link to dataset: https://www.kaggle.com/kazanova/sentiment140"
   ]
  },
  {
   "cell_type": "code",
   "execution_count": 2,
   "metadata": {},
   "outputs": [],
   "source": [
    "#Load in kaggle twitter sentiment dataset for training our NB model\"\n",
    "df = pd.read_csv('twittertrain.csv', encoding = \"ISO-8859-1\")"
   ]
  },
  {
   "cell_type": "code",
   "execution_count": 3,
   "metadata": {},
   "outputs": [],
   "source": [
    "#Extract the tweets from CSV\n",
    "df.rename(columns={'@switchfoot http://twitpic.com/2y1zl - Awww, that\\'s a bummer.  You shoulda got David Carr of Third Day to do it. ;D': 'tweets'}, inplace=True)\n",
    "tweet_set = df['tweets'].values"
   ]
  },
  {
   "cell_type": "code",
   "execution_count": 4,
   "metadata": {},
   "outputs": [],
   "source": [
    "#Extract the labels of positive = 0 or negative = 4 for each tweet\n",
    "labels = df['0'].values"
   ]
  },
  {
   "cell_type": "code",
   "execution_count": 5,
   "metadata": {},
   "outputs": [],
   "source": [
    "#functions to help tokenize the inputs tweets passed in and remove stopwords, punctuation, and spaces \n",
    "def keep_token(t):\n",
    "    return (t.is_alpha and \n",
    "            not (t.is_space or t.is_punct or \n",
    "                 t.is_stop or t.like_num))\n",
    "\n",
    "def lemmatize_doc(doc):\n",
    "    return [t.lemma_ for t in doc if keep_token(t)]\n",
    "\n",
    "def lower(doc):\n",
    "    return [t.lower() for t in doc]"
   ]
  },
  {
   "cell_type": "code",
   "execution_count": 6,
   "metadata": {},
   "outputs": [],
   "source": [
    "#This function performs the actual tokenization of each tweet from our obtained set of tweets\n",
    "def tokenizer(tweet_set):\n",
    "    tweet_set = [lemmatize_doc(nlp(tweet)) for tweet in tweet_set]\n",
    "    tweet_set = [lower(tweet) for tweet in tweet_set]\n",
    "    return tweet_set"
   ]
  },
  {
   "cell_type": "code",
   "execution_count": 7,
   "metadata": {},
   "outputs": [],
   "source": [
    "#Creates dictionary representation for tweets in our lost of tweets, can filter out words based on how \n",
    "#how frequent/infrequent they are\n",
    "def tweet_to_doc(tokenized_tweets_list):\n",
    "    tweet_dict = Dictionary(tokenized_tweets_list)\n",
    "    #tweet_dict.filter_extremes(no_below=20, no_above=0.4)\n",
    "    tweet_dict.compactify()\n",
    "    return tweet_dict\n",
    "\n",
    "#Creating a bag-of-words model from all of the documents within the corpus using our dictionary representation\n",
    "def bag_of_words(tweet_dict, tokenized_tweets):\n",
    "    bag_of_words = [tweet_dict.doc2bow(tweet) for tweet in tokenized_tweets]\n",
    "    return bag_of_words"
   ]
  },
  {
   "cell_type": "code",
   "execution_count": 8,
   "metadata": {},
   "outputs": [],
   "source": [
    "#Taking 20,000 tweets from both positive and negative sentiment to feed into NB classifier (can change how many tweets\n",
    "#to feed in, the more tweets to train, the longer it takes to tokenize and train)\n",
    "tweet_list = tokenizer(tweet_set[0:20000])\n",
    "tweet_list2 = tokenizer(tweet_set[1580000:1600000])"
   ]
  },
  {
   "cell_type": "code",
   "execution_count": 9,
   "metadata": {},
   "outputs": [
    {
     "name": "stdout",
     "output_type": "stream",
     "text": [
      "upset update facebook texte cry result school today blah\n"
     ]
    },
    {
     "name": "stderr",
     "output_type": "stream",
     "text": [
      "<__array_function__ internals>:5: VisibleDeprecationWarning: Creating an ndarray from ragged nested sequences (which is a list-or-tuple of lists-or-tuples-or ndarrays with different lengths or shapes) is deprecated. If you meant to do this, you must specify 'dtype=object' when creating the ndarray\n"
     ]
    }
   ],
   "source": [
    "#Join each tokenized doc into one string for each doc so that word counts can be easily calculated\n",
    "joined_tweets = []\n",
    "tweet_list =np.concatenate((tweet_list, tweet_list2))\n",
    "for tweet in tweet_list:\n",
    "    joined_tweets.append(' '.join(tweet))"
   ]
  },
  {
   "cell_type": "code",
   "execution_count": 1,
   "metadata": {},
   "outputs": [
    {
     "ename": "NameError",
     "evalue": "name 'np' is not defined",
     "output_type": "error",
     "traceback": [
      "\u001b[0;31m---------------------------------------------------------------------------\u001b[0m",
      "\u001b[0;31mNameError\u001b[0m                                 Traceback (most recent call last)",
      "\u001b[0;32m<ipython-input-1-8b0b304a94aa>\u001b[0m in \u001b[0;36m<module>\u001b[0;34m\u001b[0m\n\u001b[1;32m      1\u001b[0m \u001b[0;31m#Splitting our tweet set into testing and training datasets\u001b[0m\u001b[0;34m\u001b[0m\u001b[0;34m\u001b[0m\u001b[0;34m\u001b[0m\u001b[0m\n\u001b[0;32m----> 2\u001b[0;31m \u001b[0mlabels\u001b[0m \u001b[0;34m=\u001b[0m \u001b[0mnp\u001b[0m\u001b[0;34m.\u001b[0m\u001b[0mconcatenate\u001b[0m\u001b[0;34m(\u001b[0m\u001b[0;34m(\u001b[0m\u001b[0mlabels\u001b[0m\u001b[0;34m[\u001b[0m\u001b[0;36m0\u001b[0m\u001b[0;34m:\u001b[0m\u001b[0;36m20000\u001b[0m\u001b[0;34m]\u001b[0m\u001b[0;34m,\u001b[0m \u001b[0mlabels\u001b[0m\u001b[0;34m[\u001b[0m\u001b[0;36m1580000\u001b[0m\u001b[0;34m:\u001b[0m\u001b[0;36m1600000\u001b[0m\u001b[0;34m]\u001b[0m\u001b[0;34m)\u001b[0m\u001b[0;34m)\u001b[0m\u001b[0;34m\u001b[0m\u001b[0;34m\u001b[0m\u001b[0m\n\u001b[0m\u001b[1;32m      3\u001b[0m \u001b[0mX_train\u001b[0m\u001b[0;34m,\u001b[0m \u001b[0mX_test\u001b[0m\u001b[0;34m,\u001b[0m \u001b[0my_train\u001b[0m\u001b[0;34m,\u001b[0m \u001b[0my_test\u001b[0m \u001b[0;34m=\u001b[0m \u001b[0mtrain_test_split\u001b[0m\u001b[0;34m(\u001b[0m\u001b[0mjoined_tweets\u001b[0m\u001b[0;34m,\u001b[0m \u001b[0mlabels\u001b[0m\u001b[0;34m,\u001b[0m \u001b[0mtest_size\u001b[0m\u001b[0;34m=\u001b[0m\u001b[0;36m0.2\u001b[0m\u001b[0;34m)\u001b[0m\u001b[0;34m\u001b[0m\u001b[0;34m\u001b[0m\u001b[0m\n",
      "\u001b[0;31mNameError\u001b[0m: name 'np' is not defined"
     ]
    }
   ],
   "source": [
    "#Splitting our tweet set into testing and training datasets\n",
    "labels = np.concatenate((labels[0:20000], labels[1580000:1600000]))\n",
    "X_train, X_test, y_train, y_test = train_test_split(joined_tweets, labels, test_size=0.2)"
   ]
  },
  {
   "cell_type": "code",
   "execution_count": 11,
   "metadata": {},
   "outputs": [],
   "source": [
    "#Gets the counts of words in each document (could maybe improve by reducing the number of words considered as features)\n",
    "vectorizer = CountVectorizer(binary=True)\n",
    "vector = vectorizer.fit_transform(X_train)\n",
    "X_train = vector.toarray()"
   ]
  },
  {
   "cell_type": "code",
   "execution_count": 12,
   "metadata": {},
   "outputs": [],
   "source": [
    "nb = MultinomialNB()"
   ]
  },
  {
   "cell_type": "code",
   "execution_count": 13,
   "metadata": {},
   "outputs": [
    {
     "data": {
      "text/plain": [
       "0.8441513797306166"
      ]
     },
     "execution_count": 13,
     "metadata": {},
     "output_type": "execute_result"
    }
   ],
   "source": [
    "#Training the Naive Bayes Model\n",
    "nb.fit(X_train, y_train)\n",
    "nb.score(X_train, y_train)"
   ]
  },
  {
   "cell_type": "code",
   "execution_count": 14,
   "metadata": {},
   "outputs": [
    {
     "name": "stdout",
     "output_type": "stream",
     "text": [
      "[4 4 4 ... 4 4 0]\n"
     ]
    }
   ],
   "source": [
    "X_test = vectorizer.transform(X_test)\n",
    "\n",
    "#Using our NB model to now run on the portion of data we allocated as the testing set\n",
    "y_pred = nb.predict(X_test)"
   ]
  },
  {
   "cell_type": "code",
   "execution_count": 35,
   "metadata": {},
   "outputs": [],
   "source": [
    "from sklearn.metrics import confusion_matrix, f1_score, accuracy_score\n",
    "import matplotlib.pyplot as plt"
   ]
  },
  {
   "cell_type": "code",
   "execution_count": 43,
   "metadata": {
    "scrolled": true
   },
   "outputs": [
    {
     "name": "stdout",
     "output_type": "stream",
     "text": [
      "--------------------Basic Metrics--------------------\n",
      "Accuracy: 74.20%\n",
      "\n",
      "F1 Score: 73.45\n"
     ]
    },
    {
     "data": {
      "image/png": "[encoded data removed]",
      "text/plain": [
       "<Figure size 576x288 with 2 Axes>"
      ]
     },
     "metadata": {},
     "output_type": "display_data"
    }
   ],
   "source": [
    "#Display metrics from our training with the NB Model\n",
    "print('--------------------Basic Metrics--------------------')\n",
    "print(\"Accuracy: {:.2f}%\".format(accuracy_score(y_test, y_pred) * 100))\n",
    "y_binary_test = np.where(y_test == 4, 1, 0)\n",
    "y_binary_pred = np.where(y_pred == 4, 1, 0)\n",
    "print(\"\\nF1 Score: {:.2f}\".format(f1_score(y_binary_test, y_binary_pred) * 100))\n",
    "confusion = confusion_matrix(y_test, y_pred)\n",
    "import seaborn as sns\n",
    "group_labels = ['True Neg', 'False Pos','False Neg','True Pos']\n",
    "group_percentages = ['{0:.2%}'.format(value) for value in\n",
    "                     confusion.flatten()/np.sum(confusion)]\n",
    "new_labels = [f'{name}\\n{percent}' for name, percent in\n",
    "          zip(group_labels,group_percentages)]\n",
    "labels = np.asarray(new_labels).reshape(2,2)\n",
    "with plt.style.context('seaborn'):\n",
    "    plt.figure(figsize=(8, 4))\n",
    "    sns.set(font_scale=1)\n",
    "    sns.heatmap(confusion/np.sum(confusion), annot=labels, fmt='', cmap='Blues')\n",
    "    plt.xlabel('Predicted'); plt.ylabel('Actual')\n",
    "    plt.axis('equal'); plt.title('Positive/Negative Rate', fontweight='bold',fontsize=20)\n",
    "    plt.show()"
   ]
  },
  {
   "cell_type": "code",
   "execution_count": null,
   "metadata": {},
   "outputs": [],
   "source": [
    "#Code needs to be added here to now get our own tweets from Twitter and test them using our NB model"
   ]
  }
 ],
 "metadata": {
  "kernelspec": {
   "display_name": "Python 3",
   "language": "python",
   "name": "python3"
  },
  "language_info": {
   "codemirror_mode": {
    "name": "ipython",
    "version": 3
   },
   "file_extension": ".py",
   "mimetype": "text/x-python",
   "name": "python",
   "nbconvert_exporter": "python",
   "pygments_lexer": "ipython3",
   "version": "3.8.3"
  }
 },
 "nbformat": 4,
 "nbformat_minor": 4
}
